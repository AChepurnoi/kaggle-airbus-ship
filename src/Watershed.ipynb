{
 "cells": [
  {
   "cell_type": "code",
   "execution_count": 1,
   "metadata": {},
   "outputs": [],
   "source": [
    "import os\n",
    "# Only for first run after kernel restart\n",
    "os.chdir('..')"
   ]
  },
  {
   "cell_type": "code",
   "execution_count": 2,
   "metadata": {},
   "outputs": [],
   "source": [
    "from src.utils import *\n",
    "from src.v2.config import *\n",
    "import pandas as pd\n",
    "import src.utils as utils\n",
    "import matplotlib.pyplot as plt\n",
    "import numpy as np\n",
    "from skimage.measure import label  \n",
    "from PIL import Image\n",
    "import cv2\n",
    "import torch\n",
    "from torch.utils import data\n"
   ]
  },
  {
   "cell_type": "code",
   "execution_count": 3,
   "metadata": {},
   "outputs": [],
   "source": [
    "IMSIZE = (768, 768)"
   ]
  },
  {
   "cell_type": "code",
   "execution_count": 3,
   "metadata": {},
   "outputs": [],
   "source": [
    "data = pd.read_csv(\"mask_size_65.csv\")"
   ]
  },
  {
   "cell_type": "code",
   "execution_count": 7,
   "metadata": {},
   "outputs": [],
   "source": [
    "images = data.ImageId.unique()"
   ]
  },
  {
   "cell_type": "code",
   "execution_count": 329,
   "metadata": {},
   "outputs": [],
   "source": [
    "with_mask = data[~data.EncodedPixels.isna()]"
   ]
  },
  {
   "cell_type": "code",
   "execution_count": 330,
   "metadata": {},
   "outputs": [],
   "source": [
    "with_mask_ids = with_mask.ImageId.unique()"
   ]
  },
  {
   "cell_type": "code",
   "execution_count": 395,
   "metadata": {},
   "outputs": [],
   "source": [
    "kernel = np.ones((7,7),np.uint8)"
   ]
  },
  {
   "cell_type": "code",
   "execution_count": 397,
   "metadata": {},
   "outputs": [],
   "source": [
    "data['fixed'] = data.EncodedPixels.apply(lambda x: rle_encode_h(cv2.morphologyEx(rle_decode(x),cv2.MORPH_CLOSE, kernel)) if x is not np.nan else np.nan)"
   ]
  },
  {
   "cell_type": "code",
   "execution_count": 401,
   "metadata": {},
   "outputs": [],
   "source": [
    "tmp = data[(data.EncodedPixels != data.fixed) & (~data.fixed.isna())]"
   ]
  },
  {
   "cell_type": "code",
   "execution_count": null,
   "metadata": {},
   "outputs": [],
   "source": []
  },
  {
   "cell_type": "code",
   "execution_count": 404,
   "metadata": {},
   "outputs": [],
   "source": [
    "tmp['diff'] = tmp.apply(lambda x: np.sum(rle_decode(x.EncodedPixels) != rle_decode(x.fixed)), axis=1)"
   ]
  },
  {
   "cell_type": "code",
   "execution_count": 416,
   "metadata": {},
   "outputs": [],
   "source": [
    "tmp = tmp.sort_values(by='diff', ascending=False)"
   ]
  },
  {
   "cell_type": "code",
   "execution_count": null,
   "metadata": {},
   "outputs": [],
   "source": []
  },
  {
   "cell_type": "code",
   "execution_count": 442,
   "metadata": {
    "scrolled": true
   },
   "outputs": [
    {
     "data": {
      "text/plain": [
       "<matplotlib.image.AxesImage at 0x12cebd470>"
      ]
     },
     "execution_count": 442,
     "metadata": {},
     "output_type": "execute_result"
    },
    {
     "data": {
      "image/png": "[encoded data removed]",
      "text/plain": [
       "<Figure size 432x288 with 1 Axes>"
      ]
     },
     "metadata": {
      "needs_background": "light"
     },
     "output_type": "display_data"
    }
   ],
   "source": [
    "plt.imshow(watershed(rle_decode(tmp.iloc[i].EncodedPixels), th_c=0.2, k_size=3))"
   ]
  },
  {
   "cell_type": "code",
   "execution_count": 443,
   "metadata": {},
   "outputs": [],
   "source": [
    "i = 4"
   ]
  },
  {
   "cell_type": "code",
   "execution_count": 449,
   "metadata": {},
   "outputs": [],
   "source": [
    "data['diff'] = data.apply(lambda x: np.sum(rle_decode(x.EncodedPixels) != rle_decode(x.fixed)) if x.EncodedPixels is not np.nan else 0, axis=1)"
   ]
  },
  {
   "cell_type": "code",
   "execution_count": 466,
   "metadata": {},
   "outputs": [
    {
     "data": {
      "text/plain": [
       "<matplotlib.axes._subplots.AxesSubplot at 0x13cbbba20>"
      ]
     },
     "execution_count": 466,
     "metadata": {},
     "output_type": "execute_result"
    },
    {
     "data": {
      "image/png": "[encoded data removed]",
      "text/plain": [
       "<Figure size 432x288 with 1 Axes>"
      ]
     },
     "metadata": {
      "needs_background": "light"
     },
     "output_type": "display_data"
    }
   ],
   "source": [
    "data[(data['diff'] > 0) & (data['diff'] < 50)]['diff'].hist()"
   ]
  },
  {
   "cell_type": "code",
   "execution_count": 469,
   "metadata": {},
   "outputs": [],
   "source": [
    "data['EncodedPixels'] = data.apply(lambda x:x.EncodedPixels if x['diff'] > 50 else x.fixed, axis=1)"
   ]
  },
  {
   "cell_type": "code",
   "execution_count": 472,
   "metadata": {},
   "outputs": [],
   "source": [
    "data[['ImageId', 'EncodedPixels']].to_csv('semantic_closing_mask_65.csv', index=False)"
   ]
  },
  {
   "cell_type": "code",
   "execution_count": null,
   "metadata": {},
   "outputs": [],
   "source": []
  },
  {
   "cell_type": "code",
   "execution_count": 473,
   "metadata": {
    "scrolled": true
   },
   "outputs": [],
   "source": [
    "# kernel = np.ones((7,7),np.uint8)\n",
    "# for i in range(150, 175):\n",
    "#     plt.figure(figsize=(16, 16))\n",
    "#     row = data[data.ImageId == with_mask_ids[i]]\n",
    "#     plt.subplot(1, 3, 1)\n",
    "#     plt.imshow(cv2.imread(\"data/test_v2/\" + row.ImageId.values[0]))\n",
    "#     plt.subplot(1, 3, 2)\n",
    "#     plt.imshow(masks_as_image(row.EncodedPixels.values).reshape(IMSIZE))\n",
    "#     plt.subplot(1, 3, 3)\n",
    "#     plt.imshow(cv2.morphologyEx(masks_as_image(row.EncodedPixels.values).reshape(IMSIZE),cv2.MORPH_CLOSE, kernel))\n",
    "#     plt.show()"
   ]
  },
  {
   "cell_type": "code",
   "execution_count": 83,
   "metadata": {},
   "outputs": [
    {
     "ename": "NameError",
     "evalue": "name 'with_mask_ids' is not defined",
     "output_type": "error",
     "traceback": [
      "\u001b[0;31m---------------------------------------------------------------------------\u001b[0m",
      "\u001b[0;31mNameError\u001b[0m                                 Traceback (most recent call last)",
      "\u001b[0;32m<ipython-input-83-38b58e67d81e>\u001b[0m in \u001b[0;36m<module>\u001b[0;34m\u001b[0m\n\u001b[0;32m----> 1\u001b[0;31m \u001b[0mrow\u001b[0m \u001b[0;34m=\u001b[0m \u001b[0mdata\u001b[0m\u001b[0;34m[\u001b[0m\u001b[0mdata\u001b[0m\u001b[0;34m.\u001b[0m\u001b[0mImageId\u001b[0m \u001b[0;34m==\u001b[0m \u001b[0mwith_mask_ids\u001b[0m\u001b[0;34m[\u001b[0m\u001b[0;36m175\u001b[0m\u001b[0;34m]\u001b[0m\u001b[0;34m]\u001b[0m\u001b[0;34m\u001b[0m\u001b[0m\n\u001b[0m",
      "\u001b[0;31mNameError\u001b[0m: name 'with_mask_ids' is not defined"
     ]
    }
   ],
   "source": [
    "row = data[data.ImageId == with_mask_ids[175]]\n"
   ]
  },
  {
   "cell_type": "code",
   "execution_count": null,
   "metadata": {},
   "outputs": [],
   "source": [
    "mask = masks_as_image(row.EncodedPixels.values).reshape(IMSIZE)"
   ]
  },
  {
   "cell_type": "code",
   "execution_count": null,
   "metadata": {},
   "outputs": [],
   "source": [
    "plt.imshow(mask)"
   ]
  },
  {
   "cell_type": "code",
   "execution_count": 381,
   "metadata": {},
   "outputs": [],
   "source": [
    "def watershed(mask, k_size=3, th_c=0.2):\n",
    "    kernel = np.ones((k_size,k_size),np.uint8)\n",
    "    mask = mask.astype(np.uint8)\n",
    "    sure_bg = cv2.dilate(mask,kernel,iterations=3)\n",
    "    # Finding sure foreground area\n",
    "    dist_transform = cv2.distanceTransform(mask,cv2.DIST_L2,5)\n",
    "    ret, sure_fg = cv2.threshold(dist_transform,th_c*dist_transform.max(),255,0)\n",
    "    sure_fg = np.uint8(sure_fg)\n",
    "    unknown = cv2.subtract(sure_bg,sure_fg)\n",
    "    # Marker labelling\n",
    "    ret, markers = cv2.connectedComponents(sure_fg)\n",
    "    # Add one to all labels so that sure background is not 0, but 1\n",
    "    markers = markers+1\n",
    "    # Now, mark the region of unknown with zero\n",
    "    markers[unknown==255] = 0\n",
    "#     m = np.dstack((mask, mask, mask)).shape\n",
    "    markers = cv2.watershed(np.dstack((mask, mask, mask)),markers)\n",
    "    return markers\n",
    "# markers[markers == -1] = [1]\n",
    "    "
   ]
  },
  {
   "cell_type": "code",
   "execution_count": 382,
   "metadata": {},
   "outputs": [
    {
     "data": {
      "text/plain": [
       "<matplotlib.image.AxesImage at 0x136263198>"
      ]
     },
     "execution_count": 382,
     "metadata": {},
     "output_type": "execute_result"
    },
    {
     "data": {
      "image/png": "[encoded data removed]",
      "text/plain": [
       "<Figure size 432x288 with 1 Axes>"
      ]
     },
     "metadata": {
      "needs_background": "light"
     },
     "output_type": "display_data"
    }
   ],
   "source": [
    "plt.imshow(watershed(mask, th_c=0.7, k_size=3))"
   ]
  },
  {
   "cell_type": "code",
   "execution_count": 362,
   "metadata": {},
   "outputs": [
    {
     "data": {
      "text/plain": [
       "<matplotlib.image.AxesImage at 0x1377a9828>"
      ]
     },
     "execution_count": 362,
     "metadata": {},
     "output_type": "execute_result"
    },
    {
     "data": {
      "image/png": "[encoded data removed]",
      "text/plain": [
       "<Figure size 432x288 with 1 Axes>"
      ]
     },
     "metadata": {
      "needs_background": "light"
     },
     "output_type": "display_data"
    }
   ],
   "source": [
    "plt.imshow(mask)"
   ]
  },
  {
   "cell_type": "code",
   "execution_count": 348,
   "metadata": {},
   "outputs": [
    {
     "data": {
      "text/plain": [
       "<matplotlib.image.AxesImage at 0x1361f6f98>"
      ]
     },
     "execution_count": 348,
     "metadata": {},
     "output_type": "execute_result"
    },
    {
     "data": {
      "image/png": "[encoded data removed]",
      "text/plain": [
       "<Figure size 432x288 with 1 Axes>"
      ]
     },
     "metadata": {
      "needs_background": "light"
     },
     "output_type": "display_data"
    }
   ],
   "source": []
  },
  {
   "cell_type": "code",
   "execution_count": null,
   "metadata": {},
   "outputs": [],
   "source": []
  },
  {
   "cell_type": "code",
   "execution_count": 15,
   "metadata": {},
   "outputs": [],
   "source": [
    "data = pd.read_csv(\"mask_size_65.csv\")"
   ]
  },
  {
   "cell_type": "code",
   "execution_count": 16,
   "metadata": {},
   "outputs": [],
   "source": [
    "data2 = pd.read_csv('submission0.715.csv')"
   ]
  },
  {
   "cell_type": "code",
   "execution_count": 17,
   "metadata": {},
   "outputs": [],
   "source": [
    "# data2['prev'] = data.EncodedPixels"
   ]
  },
  {
   "cell_type": "code",
   "execution_count": 18,
   "metadata": {},
   "outputs": [],
   "source": [
    "c2 = data2.groupby(\"ImageId\").count()"
   ]
  },
  {
   "cell_type": "code",
   "execution_count": 19,
   "metadata": {},
   "outputs": [],
   "source": [
    "c1 = data.groupby(\"ImageId\").count()"
   ]
  },
  {
   "cell_type": "code",
   "execution_count": 33,
   "metadata": {},
   "outputs": [],
   "source": [
    "ids = list(c2[c1.EncodedPixels != c2.EncodedPixels].index)"
   ]
  },
  {
   "cell_type": "code",
   "execution_count": 52,
   "metadata": {
    "scrolled": true
   },
   "outputs": [
    {
     "data": {
      "text/html": [
       "<div>\n",
       "<style scoped>\n",
       "    .dataframe tbody tr th:only-of-type {\n",
       "        vertical-align: middle;\n",
       "    }\n",
       "\n",
       "    .dataframe tbody tr th {\n",
       "        vertical-align: top;\n",
       "    }\n",
       "\n",
       "    .dataframe thead th {\n",
       "        text-align: right;\n",
       "    }\n",
       "</style>\n",
       "<table border=\"1\" class=\"dataframe\">\n",
       "  <thead>\n",
       "    <tr style=\"text-align: right;\">\n",
       "      <th></th>\n",
       "      <th>ImageId</th>\n",
       "      <th>EncodedPixels</th>\n",
       "    </tr>\n",
       "  </thead>\n",
       "  <tbody>\n",
       "    <tr>\n",
       "      <th>13</th>\n",
       "      <td>0035268d9.jpg</td>\n",
       "      <td>485105 4 485872 6 486639 8 487406 10 488173 12...</td>\n",
       "    </tr>\n",
       "    <tr>\n",
       "      <th>14</th>\n",
       "      <td>0035268d9.jpg</td>\n",
       "      <td>426738 9 427504 13 428271 15 429038 16 429805 ...</td>\n",
       "    </tr>\n",
       "    <tr>\n",
       "      <th>15</th>\n",
       "      <td>0035268d9.jpg</td>\n",
       "      <td>441688 5 442455 7 443222 9 443989 10 444756 12...</td>\n",
       "    </tr>\n",
       "    <tr>\n",
       "      <th>41</th>\n",
       "      <td>008c79db7.jpg</td>\n",
       "      <td>NaN</td>\n",
       "    </tr>\n",
       "    <tr>\n",
       "      <th>55</th>\n",
       "      <td>00aa79c47.jpg</td>\n",
       "      <td>433656 3 434423 6 435190 8 435958 9 436725 10 ...</td>\n",
       "    </tr>\n",
       "    <tr>\n",
       "      <th>56</th>\n",
       "      <td>00aa79c47.jpg</td>\n",
       "      <td>182612 10 183379 11 184146 12 184914 12 185682...</td>\n",
       "    </tr>\n",
       "    <tr>\n",
       "      <th>57</th>\n",
       "      <td>00aa79c47.jpg</td>\n",
       "      <td>520544 6 521311 8 522079 8 522847 8 523615 8 5...</td>\n",
       "    </tr>\n",
       "    <tr>\n",
       "      <th>75</th>\n",
       "      <td>00e5fb033.jpg</td>\n",
       "      <td>264393 3 265159 7 265927 12 266694 14 267462 1...</td>\n",
       "    </tr>\n",
       "    <tr>\n",
       "      <th>76</th>\n",
       "      <td>00e5fb033.jpg</td>\n",
       "      <td>173032 12 173799 18 174566 23 175334 26 176101...</td>\n",
       "    </tr>\n",
       "    <tr>\n",
       "      <th>77</th>\n",
       "      <td>00e7432b2.jpg</td>\n",
       "      <td>NaN</td>\n",
       "    </tr>\n",
       "    <tr>\n",
       "      <th>85</th>\n",
       "      <td>00ffdbb8e.jpg</td>\n",
       "      <td>202625 2 203391 7 204159 9 204926 13 205694 16...</td>\n",
       "    </tr>\n",
       "    <tr>\n",
       "      <th>115</th>\n",
       "      <td>01963652b.jpg</td>\n",
       "      <td>NaN</td>\n",
       "    </tr>\n",
       "    <tr>\n",
       "      <th>190</th>\n",
       "      <td>026e93877.jpg</td>\n",
       "      <td>32842 4 33609 7 34376 8 35144 8 35912 8 36680 ...</td>\n",
       "    </tr>\n",
       "    <tr>\n",
       "      <th>191</th>\n",
       "      <td>026e93877.jpg</td>\n",
       "      <td>187220 5 187987 7 188755 7 189523 7 190291 7 1...</td>\n",
       "    </tr>\n",
       "    <tr>\n",
       "      <th>192</th>\n",
       "      <td>026e93877.jpg</td>\n",
       "      <td>16747 2 17513 5 18281 6 19049 6 19816 7 20584 ...</td>\n",
       "    </tr>\n",
       "    <tr>\n",
       "      <th>238</th>\n",
       "      <td>0314357ab.jpg</td>\n",
       "      <td>NaN</td>\n",
       "    </tr>\n",
       "    <tr>\n",
       "      <th>324</th>\n",
       "      <td>0428dd114.jpg</td>\n",
       "      <td>NaN</td>\n",
       "    </tr>\n",
       "    <tr>\n",
       "      <th>326</th>\n",
       "      <td>042aaa3df.jpg</td>\n",
       "      <td>NaN</td>\n",
       "    </tr>\n",
       "    <tr>\n",
       "      <th>401</th>\n",
       "      <td>058358044.jpg</td>\n",
       "      <td>239804 20 240571 25 241339 27 242107 28 242874...</td>\n",
       "    </tr>\n",
       "    <tr>\n",
       "      <th>402</th>\n",
       "      <td>058358044.jpg</td>\n",
       "      <td>247558 20 248324 28 249091 36 249859 39 250628...</td>\n",
       "    </tr>\n",
       "    <tr>\n",
       "      <th>451</th>\n",
       "      <td>0653ca11c.jpg</td>\n",
       "      <td>281911 6 282677 10 283444 12 284211 14 284979 ...</td>\n",
       "    </tr>\n",
       "    <tr>\n",
       "      <th>452</th>\n",
       "      <td>0653ca11c.jpg</td>\n",
       "      <td>163842 5 164609 7 165376 8 166143 9 166910 10 ...</td>\n",
       "    </tr>\n",
       "    <tr>\n",
       "      <th>457</th>\n",
       "      <td>0677b2d96.jpg</td>\n",
       "      <td>NaN</td>\n",
       "    </tr>\n",
       "    <tr>\n",
       "      <th>470</th>\n",
       "      <td>06a45df3e.jpg</td>\n",
       "      <td>487293 6 488060 8 488828 9 489596 9 490364 9 4...</td>\n",
       "    </tr>\n",
       "    <tr>\n",
       "      <th>501</th>\n",
       "      <td>0706d830d.jpg</td>\n",
       "      <td>96625 10 97389 19 98156 23 98923 28 99689 33 1...</td>\n",
       "    </tr>\n",
       "    <tr>\n",
       "      <th>558</th>\n",
       "      <td>080a8efc3.jpg</td>\n",
       "      <td>NaN</td>\n",
       "    </tr>\n",
       "    <tr>\n",
       "      <th>648</th>\n",
       "      <td>095c10a2f.jpg</td>\n",
       "      <td>NaN</td>\n",
       "    </tr>\n",
       "    <tr>\n",
       "      <th>655</th>\n",
       "      <td>097321424.jpg</td>\n",
       "      <td>NaN</td>\n",
       "    </tr>\n",
       "    <tr>\n",
       "      <th>706</th>\n",
       "      <td>0a580f09e.jpg</td>\n",
       "      <td>NaN</td>\n",
       "    </tr>\n",
       "    <tr>\n",
       "      <th>745</th>\n",
       "      <td>0aba8fa6f.jpg</td>\n",
       "      <td>309638 9 310404 12 311172 13 311939 14 312707 ...</td>\n",
       "    </tr>\n",
       "    <tr>\n",
       "      <th>...</th>\n",
       "      <td>...</td>\n",
       "      <td>...</td>\n",
       "    </tr>\n",
       "    <tr>\n",
       "      <th>16206</th>\n",
       "      <td>f64730aa4.jpg</td>\n",
       "      <td>190466 5 191233 11 192001 18 192769 27 193537 ...</td>\n",
       "    </tr>\n",
       "    <tr>\n",
       "      <th>16266</th>\n",
       "      <td>f7312264c.jpg</td>\n",
       "      <td>NaN</td>\n",
       "    </tr>\n",
       "    <tr>\n",
       "      <th>16287</th>\n",
       "      <td>f7942491b.jpg</td>\n",
       "      <td>124894 3 125661 5 126428 7 126446 2 127195 9 1...</td>\n",
       "    </tr>\n",
       "    <tr>\n",
       "      <th>16302</th>\n",
       "      <td>f7d653f3b.jpg</td>\n",
       "      <td>352242 4 353008 7 353776 8 354544 8 355312 8 3...</td>\n",
       "    </tr>\n",
       "    <tr>\n",
       "      <th>16303</th>\n",
       "      <td>f7d653f3b.jpg</td>\n",
       "      <td>191007 3 191774 5 192541 8 193309 9 194076 11 ...</td>\n",
       "    </tr>\n",
       "    <tr>\n",
       "      <th>16305</th>\n",
       "      <td>f7e3368a4.jpg</td>\n",
       "      <td>NaN</td>\n",
       "    </tr>\n",
       "    <tr>\n",
       "      <th>16310</th>\n",
       "      <td>f7fb17fe1.jpg</td>\n",
       "      <td>NaN</td>\n",
       "    </tr>\n",
       "    <tr>\n",
       "      <th>16319</th>\n",
       "      <td>f8367ed50.jpg</td>\n",
       "      <td>NaN</td>\n",
       "    </tr>\n",
       "    <tr>\n",
       "      <th>16324</th>\n",
       "      <td>f8507e207.jpg</td>\n",
       "      <td>59360 6 60127 8 60895 9 61663 9 62431 9 63199 ...</td>\n",
       "    </tr>\n",
       "    <tr>\n",
       "      <th>16325</th>\n",
       "      <td>f85499be8.jpg</td>\n",
       "      <td>NaN</td>\n",
       "    </tr>\n",
       "    <tr>\n",
       "      <th>16399</th>\n",
       "      <td>f993b357f.jpg</td>\n",
       "      <td>NaN</td>\n",
       "    </tr>\n",
       "    <tr>\n",
       "      <th>16413</th>\n",
       "      <td>f9d12e610.jpg</td>\n",
       "      <td>449038 1 449799 11 450556 24 451308 40 452064 ...</td>\n",
       "    </tr>\n",
       "    <tr>\n",
       "      <th>16445</th>\n",
       "      <td>fa3a33944.jpg</td>\n",
       "      <td>NaN</td>\n",
       "    </tr>\n",
       "    <tr>\n",
       "      <th>16516</th>\n",
       "      <td>fb5e4646c.jpg</td>\n",
       "      <td>NaN</td>\n",
       "    </tr>\n",
       "    <tr>\n",
       "      <th>16522</th>\n",
       "      <td>fb81a1319.jpg</td>\n",
       "      <td>NaN</td>\n",
       "    </tr>\n",
       "    <tr>\n",
       "      <th>16572</th>\n",
       "      <td>fc8629638.jpg</td>\n",
       "      <td>192260 5 193026 8 193792 11 194558 14 195324 1...</td>\n",
       "    </tr>\n",
       "    <tr>\n",
       "      <th>16591</th>\n",
       "      <td>fceca1d6d.jpg</td>\n",
       "      <td>348680 4 349447 7 350214 8 350982 8 351750 8 3...</td>\n",
       "    </tr>\n",
       "    <tr>\n",
       "      <th>16592</th>\n",
       "      <td>fceca1d6d.jpg</td>\n",
       "      <td>474936 11 475702 16 476468 20 477234 24 477999...</td>\n",
       "    </tr>\n",
       "    <tr>\n",
       "      <th>16599</th>\n",
       "      <td>fd035a7b4.jpg</td>\n",
       "      <td>NaN</td>\n",
       "    </tr>\n",
       "    <tr>\n",
       "      <th>16736</th>\n",
       "      <td>febc28916.jpg</td>\n",
       "      <td>NaN</td>\n",
       "    </tr>\n",
       "    <tr>\n",
       "      <th>16776</th>\n",
       "      <td>ff3294cb9.jpg</td>\n",
       "      <td>23136 9 23902 20 23950 27 24670 80 25437 88 26...</td>\n",
       "    </tr>\n",
       "    <tr>\n",
       "      <th>16777</th>\n",
       "      <td>ff3294cb9.jpg</td>\n",
       "      <td>144572 12 145339 14 146106 16 146874 16 147642...</td>\n",
       "    </tr>\n",
       "    <tr>\n",
       "      <th>16778</th>\n",
       "      <td>ff3294cb9.jpg</td>\n",
       "      <td>29550 12 30305 32 31072 41 31839 48 32607 51 3...</td>\n",
       "    </tr>\n",
       "    <tr>\n",
       "      <th>16779</th>\n",
       "      <td>ff3294cb9.jpg</td>\n",
       "      <td>31945 4 32709 27 33476 49 34244 51 34301 7 350...</td>\n",
       "    </tr>\n",
       "    <tr>\n",
       "      <th>16780</th>\n",
       "      <td>ff3294cb9.jpg</td>\n",
       "      <td>175636 10 176403 12 177171 12 177939 12 178707...</td>\n",
       "    </tr>\n",
       "    <tr>\n",
       "      <th>16781</th>\n",
       "      <td>ff3294cb9.jpg</td>\n",
       "      <td>68115 13 68882 15 69649 16 70417 17 71185 17 7...</td>\n",
       "    </tr>\n",
       "    <tr>\n",
       "      <th>16782</th>\n",
       "      <td>ff3294cb9.jpg</td>\n",
       "      <td>213302 3 214069 7 214837 8 215605 8 216373 8 2...</td>\n",
       "    </tr>\n",
       "    <tr>\n",
       "      <th>16790</th>\n",
       "      <td>ff624dc46.jpg</td>\n",
       "      <td>NaN</td>\n",
       "    </tr>\n",
       "    <tr>\n",
       "      <th>16796</th>\n",
       "      <td>ff8a9c83d.jpg</td>\n",
       "      <td>NaN</td>\n",
       "    </tr>\n",
       "    <tr>\n",
       "      <th>16808</th>\n",
       "      <td>ffb082d5b.jpg</td>\n",
       "      <td>29454 1 30220 10 30987 12 31755 14 32523 14 33...</td>\n",
       "    </tr>\n",
       "  </tbody>\n",
       "</table>\n",
       "<p>1014 rows × 2 columns</p>\n",
       "</div>"
      ],
      "text/plain": [
       "             ImageId                                      EncodedPixels\n",
       "13     0035268d9.jpg  485105 4 485872 6 486639 8 487406 10 488173 12...\n",
       "14     0035268d9.jpg  426738 9 427504 13 428271 15 429038 16 429805 ...\n",
       "15     0035268d9.jpg  441688 5 442455 7 443222 9 443989 10 444756 12...\n",
       "41     008c79db7.jpg                                                NaN\n",
       "55     00aa79c47.jpg  433656 3 434423 6 435190 8 435958 9 436725 10 ...\n",
       "56     00aa79c47.jpg  182612 10 183379 11 184146 12 184914 12 185682...\n",
       "57     00aa79c47.jpg  520544 6 521311 8 522079 8 522847 8 523615 8 5...\n",
       "75     00e5fb033.jpg  264393 3 265159 7 265927 12 266694 14 267462 1...\n",
       "76     00e5fb033.jpg  173032 12 173799 18 174566 23 175334 26 176101...\n",
       "77     00e7432b2.jpg                                                NaN\n",
       "85     00ffdbb8e.jpg  202625 2 203391 7 204159 9 204926 13 205694 16...\n",
       "115    01963652b.jpg                                                NaN\n",
       "190    026e93877.jpg  32842 4 33609 7 34376 8 35144 8 35912 8 36680 ...\n",
       "191    026e93877.jpg  187220 5 187987 7 188755 7 189523 7 190291 7 1...\n",
       "192    026e93877.jpg  16747 2 17513 5 18281 6 19049 6 19816 7 20584 ...\n",
       "238    0314357ab.jpg                                                NaN\n",
       "324    0428dd114.jpg                                                NaN\n",
       "326    042aaa3df.jpg                                                NaN\n",
       "401    058358044.jpg  239804 20 240571 25 241339 27 242107 28 242874...\n",
       "402    058358044.jpg  247558 20 248324 28 249091 36 249859 39 250628...\n",
       "451    0653ca11c.jpg  281911 6 282677 10 283444 12 284211 14 284979 ...\n",
       "452    0653ca11c.jpg  163842 5 164609 7 165376 8 166143 9 166910 10 ...\n",
       "457    0677b2d96.jpg                                                NaN\n",
       "470    06a45df3e.jpg  487293 6 488060 8 488828 9 489596 9 490364 9 4...\n",
       "501    0706d830d.jpg  96625 10 97389 19 98156 23 98923 28 99689 33 1...\n",
       "558    080a8efc3.jpg                                                NaN\n",
       "648    095c10a2f.jpg                                                NaN\n",
       "655    097321424.jpg                                                NaN\n",
       "706    0a580f09e.jpg                                                NaN\n",
       "745    0aba8fa6f.jpg  309638 9 310404 12 311172 13 311939 14 312707 ...\n",
       "...              ...                                                ...\n",
       "16206  f64730aa4.jpg  190466 5 191233 11 192001 18 192769 27 193537 ...\n",
       "16266  f7312264c.jpg                                                NaN\n",
       "16287  f7942491b.jpg  124894 3 125661 5 126428 7 126446 2 127195 9 1...\n",
       "16302  f7d653f3b.jpg  352242 4 353008 7 353776 8 354544 8 355312 8 3...\n",
       "16303  f7d653f3b.jpg  191007 3 191774 5 192541 8 193309 9 194076 11 ...\n",
       "16305  f7e3368a4.jpg                                                NaN\n",
       "16310  f7fb17fe1.jpg                                                NaN\n",
       "16319  f8367ed50.jpg                                                NaN\n",
       "16324  f8507e207.jpg  59360 6 60127 8 60895 9 61663 9 62431 9 63199 ...\n",
       "16325  f85499be8.jpg                                                NaN\n",
       "16399  f993b357f.jpg                                                NaN\n",
       "16413  f9d12e610.jpg  449038 1 449799 11 450556 24 451308 40 452064 ...\n",
       "16445  fa3a33944.jpg                                                NaN\n",
       "16516  fb5e4646c.jpg                                                NaN\n",
       "16522  fb81a1319.jpg                                                NaN\n",
       "16572  fc8629638.jpg  192260 5 193026 8 193792 11 194558 14 195324 1...\n",
       "16591  fceca1d6d.jpg  348680 4 349447 7 350214 8 350982 8 351750 8 3...\n",
       "16592  fceca1d6d.jpg  474936 11 475702 16 476468 20 477234 24 477999...\n",
       "16599  fd035a7b4.jpg                                                NaN\n",
       "16736  febc28916.jpg                                                NaN\n",
       "16776  ff3294cb9.jpg  23136 9 23902 20 23950 27 24670 80 25437 88 26...\n",
       "16777  ff3294cb9.jpg  144572 12 145339 14 146106 16 146874 16 147642...\n",
       "16778  ff3294cb9.jpg  29550 12 30305 32 31072 41 31839 48 32607 51 3...\n",
       "16779  ff3294cb9.jpg  31945 4 32709 27 33476 49 34244 51 34301 7 350...\n",
       "16780  ff3294cb9.jpg  175636 10 176403 12 177171 12 177939 12 178707...\n",
       "16781  ff3294cb9.jpg  68115 13 68882 15 69649 16 70417 17 71185 17 7...\n",
       "16782  ff3294cb9.jpg  213302 3 214069 7 214837 8 215605 8 216373 8 2...\n",
       "16790  ff624dc46.jpg                                                NaN\n",
       "16796  ff8a9c83d.jpg                                                NaN\n",
       "16808  ffb082d5b.jpg  29454 1 30220 10 30987 12 31755 14 32523 14 33...\n",
       "\n",
       "[1014 rows x 2 columns]"
      ]
     },
     "execution_count": 52,
     "metadata": {},
     "output_type": "execute_result"
    }
   ],
   "source": [
    "data[data.ImageId.isin(ids)]"
   ]
  },
  {
   "cell_type": "code",
   "execution_count": 74,
   "metadata": {},
   "outputs": [],
   "source": [
    "imid, ep = data[data.ImageId == '00e5fb033.jpg'].iloc[1]"
   ]
  },
  {
   "cell_type": "code",
   "execution_count": 79,
   "metadata": {},
   "outputs": [],
   "source": [
    "imid2, ep2 = data2[data2.ImageId == '00e5fb033.jpg'].iloc[2]"
   ]
  },
  {
   "cell_type": "code",
   "execution_count": 80,
   "metadata": {},
   "outputs": [
    {
     "data": {
      "text/plain": [
       "<matplotlib.image.AxesImage at 0x12c3d4c18>"
      ]
     },
     "execution_count": 80,
     "metadata": {},
     "output_type": "execute_result"
    },
    {
     "data": {
      "image/png": "[encoded data removed]",
      "text/plain": [
       "<Figure size 432x288 with 1 Axes>"
      ]
     },
     "metadata": {
      "needs_background": "light"
     },
     "output_type": "display_data"
    }
   ],
   "source": [
    "plt.imshow(cv2.imread(\"data/test_v2/\" + imid))"
   ]
  },
  {
   "cell_type": "code",
   "execution_count": 81,
   "metadata": {},
   "outputs": [
    {
     "data": {
      "text/plain": [
       "<matplotlib.image.AxesImage at 0x12c661898>"
      ]
     },
     "execution_count": 81,
     "metadata": {},
     "output_type": "execute_result"
    },
    {
     "data": {
      "image/png": "[encoded data removed]",
      "text/plain": [
       "<Figure size 432x288 with 1 Axes>"
      ]
     },
     "metadata": {
      "needs_background": "light"
     },
     "output_type": "display_data"
    }
   ],
   "source": [
    "plt.imshow(rle_decode(ep))"
   ]
  },
  {
   "cell_type": "code",
   "execution_count": 82,
   "metadata": {},
   "outputs": [
    {
     "data": {
      "text/plain": [
       "<matplotlib.image.AxesImage at 0x12c74f4e0>"
      ]
     },
     "execution_count": 82,
     "metadata": {},
     "output_type": "execute_result"
    },
    {
     "data": {
      "image/png": "[encoded data removed]",
      "text/plain": [
       "<Figure size 432x288 with 1 Axes>"
      ]
     },
     "metadata": {
      "needs_background": "light"
     },
     "output_type": "display_data"
    }
   ],
   "source": [
    "plt.imshow(rle_decode(ep2))"
   ]
  },
  {
   "cell_type": "code",
   "execution_count": null,
   "metadata": {},
   "outputs": [],
   "source": []
  }
 ],
 "metadata": {
  "kernelspec": {
   "display_name": "Python 3",
   "language": "python",
   "name": "python3"
  },
  "language_info": {
   "codemirror_mode": {
    "name": "ipython",
    "version": 3
   },
   "file_extension": ".py",
   "mimetype": "text/x-python",
   "name": "python",
   "nbconvert_exporter": "python",
   "pygments_lexer": "ipython3",
   "version": "3.7.0"
  }
 },
 "nbformat": 4,
 "nbformat_minor": 2
}
